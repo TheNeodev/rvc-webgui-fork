{
  "nbformat": 4,
  "nbformat_minor": 0,
  "metadata": {
    "colab": {
      "provenance": [],
      "gpuType": "T4",
      "include_colab_link": true
    },
    "kernelspec": {
      "name": "python3",
      "display_name": "Python 3"
    },
    "language_info": {
      "name": "python"
    },
    "accelerator": "GPU"
  },
  "cells": [
    {
      "cell_type": "markdown",
      "metadata": {
        "id": "view-in-github",
        "colab_type": "text"
      },
      "source": [
        "<a href=\"https://colab.research.google.com/github/yamada-sexta/rvc-webgui-fork/blob/main/notebook/colab.ipynb\" target=\"_parent\"><img src=\"https://colab.research.google.com/assets/colab-badge.svg\" alt=\"Open In Colab\"/></a>"
      ]
    },
    {
      "cell_type": "markdown",
      "source": [
        "# RVC WebGUI Fork"
      ],
      "metadata": {
        "id": "7TcwDDXnrxfM"
      }
    },
    {
      "cell_type": "code",
      "execution_count": null,
      "metadata": {
        "id": "SJ7_rmbPq3-L"
      },
      "outputs": [],
      "source": [
        "\n",
        "\n",
        "#@title clone URL\n",
        "\n",
        "url_id = \"yamada-sexta/rvc-webgui-fork\" #@param [\"yamada-sexta/rvc-webgui-fork\", \"BF667/rvc-webgui-fork\"]\n",
        "\n",
        "# help BF667 find GF :(\n",
        "\n",
        "\n",
        "url = f\"https://github.com/{url_id}.git\"\n",
        "\n",
        "!git clone $url RVC\n",
        "%cd RVC"
      ]
    },
    {
      "cell_type": "code",
      "source": [
        "#@title Install Stuff\n",
        "\n",
        "!pip install -r requirements-py311.txt\n",
        "!python ./tools/download_models.py"
      ],
      "metadata": {
        "id": "UArd7txhrw5d"
      },
      "execution_count": null,
      "outputs": []
    },
    {
      "cell_type": "code",
      "source": [
        "\n",
        "#@title Run GUI\n",
        "!git pull\n",
        "\n",
        "!python ./web_ui.py --colab"
      ],
      "metadata": {
        "id": "5LMwTzJ_ugI2"
      },
      "execution_count": null,
      "outputs": []
    }
  ]
}