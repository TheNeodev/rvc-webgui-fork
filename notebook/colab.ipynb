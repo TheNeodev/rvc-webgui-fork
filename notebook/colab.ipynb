{
 "nbformat": 4,
 "nbformat_minor": 5,
 "metadata": {
  "colab": {
   "provenance": [],
   "gpuType": "T4",
   "include_colab_link": true
  },
  "kernelspec": {
   "name": "python3",
   "display_name": "Python 3"
  },
  "language_info": {
   "name": "python",
   "version": "3.10"
  },
  "accelerator": "GPU"
 },
 "cells": [
  {
   "cell_type": "markdown",
   "metadata": {
    "id": "view-in-github",
    "colab_type": "text"
   },
   "source": [
    "<a href=\"https://colab.research.google.com/github/BF667/rvc-webgui-fork/blob/main/notebook/colab.ipynb\" target=\"_parent\"><img src=\"https://colab.research.google.com/assets/colab-badge.svg\" alt=\"Open In Colab\"/></a>"
   ]
  },
  {
   "cell_type": "markdown",
   "source": [
    "<div align=\"center\">\n",
    "<h1> RVC WebGUI Fork\n",
    "\n",
    "A modernized setup for running the RVC WebGUI fork on Google Colab with enhanced dependency management and error handling.\n",
    "\n",
    "\n",
    "\n",
    "[![License](https://img.shields.io/github/license/yamada-sexta/rvc-webgui-fork?style=flat-square)](https://github.com/yamada-sexta/rvc-webgui-fork/blob/main/THIRD_PARTY_NOTICES.md)\n",
    "[![GitHub stars](https://img.shields.io/github/stars/yamada-sexta/rvc-webgui-fork?style=flat-square)](https://github.com/yamada-sexta/rvc-webgui-fork/stargazers)\n",
    "[![GitHub last commit](https://img.shields.io/github/last-commit/yamada-sexta/rvc-webgui-fork?style=flat-square)](https://github.com/yamada-sexta/rvc-webgui-fork/commits/main)\n",
    "[![GitHub issues](https://img.shields.io/github/issues/yamada-sexta/rvc-webgui-fork?style=flat-square)](https://github.com/yamada-sexta/rvc-webgui-fork/issues)\n",
    "[![GitHub pull requests](https://img.shields.io/github/issues-pr/yamada-sexta/rvc-webgui-fork?style=flat-square)](https://github.com/yamada-sexta/rvc-webgui-fork/pulls)\n",
    "\n",
    "</div>"
   ],
   "metadata": {
    "id": "7TcwDDXnrxfM"
   },
   "id": "7TcwDDXnrxfM"
  },
  {
   "cell_type": "code",
   "execution_count": null,
   "metadata": {
    "id": "SJ7_rmbPq3-L",
    "cellView": "form"
   },
   "outputs": [],
   "source": [
    "# @title Setup Environment\n",
    "# @markdown Clone the repository and install dependencies.\n",
    "\n",
    "import os\n",
    "\n",
    "REPO = \"yamada-sexta/rvc-webgui-fork\"  # @param [\"yamada-sexta/rvc-webgui-fork\", \"BF667/rvc-webgui-fork\"]\n",
    "\n",
    "url = f\"https://github.com/{REPO}.git\"\n",
    "\n",
    "# Clone the repository\n",
    "!git clone {url} app > /dev/null 2>&1\n",
    "%cd app\n",
    "\n",
    "# Install uv if not already installed\n",
    "!pip install uv > /dev/null 2>&1\n",
    "\n",
    "# Sync dependencies with uv\n",
    "!uv sync --frozen --no-cache > /dev/null 2>&1\n",
    "\n",
    "# Download required models\n",
    "!uv run python ./tools/download_models.py\n",
    "\n",
    "# Verify installation\n",
    "if os.path.exists(\"./tools/download_models.py\"):\n",
    "    print(\"Setup completed successfully!\")\n",
    "else:\n",
    "    print(\"Error: Setup failed. Please check the repository and try again.\")"
   ],
   "id": "SJ7_rmbPq3-L"
  },
  {
   "cell_type": "code",
   "source": [
    "# @title Run GUI\n",
    "# @markdown Pull the latest changes and launch the WebGUI.\n",
    "\n",
    "\n",
    "# Pull latest changes\n",
    "!git pull origin main -q\n",
    "\n",
    "# Run the WebGUI\n",
    "\n",
    "\n",
    "!uv run python ./web_ui.py --colab"
   ],
   "metadata": {
    "id": "5LMwTzJ_ugI2",
    "cellView": "form"
   },
   "execution_count": null,
   "outputs": [],
   "id": "5LMwTzJ_ugI2"
  }
 ]
}